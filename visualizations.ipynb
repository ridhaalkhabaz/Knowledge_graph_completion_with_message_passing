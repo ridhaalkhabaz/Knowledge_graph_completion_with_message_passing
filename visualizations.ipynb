{
 "cells": [
  {
   "cell_type": "markdown",
   "id": "b01f08e5-de5f-4e98-8b93-e8afb4fede01",
   "metadata": {},
   "source": [
    "#### Results visualizations \n",
    "\n",
    "#### Imports:"
   ]
  },
  {
   "cell_type": "code",
   "execution_count": 3,
   "id": "3a721b23-34d8-4429-a4e9-7151038144c5",
   "metadata": {},
   "outputs": [],
   "source": [
    "import pandas as pd\n",
    "import numpy as np\n",
    "import matplotlib.pyplot as plt"
   ]
  },
  {
   "cell_type": "code",
   "execution_count": null,
   "id": "9dbbdaf7-67be-4412-9022-9d4752dcc734",
   "metadata": {},
   "outputs": [],
   "source": [
    "df_dict = {'model': ['rgcn', 'seal', 'CompGCN-MLP-10', 'CompGCN-MLP-200', 'TranSe', 'Complex', 'Distmult', 'RotatE'], \n",
    "          'wal'}"
   ]
  }
 ],
 "metadata": {
  "kernelspec": {
   "display_name": "Python 3 (ipykernel)",
   "language": "python",
   "name": "python3"
  },
  "language_info": {
   "codemirror_mode": {
    "name": "ipython",
    "version": 3
   },
   "file_extension": ".py",
   "mimetype": "text/x-python",
   "name": "python",
   "nbconvert_exporter": "python",
   "pygments_lexer": "ipython3",
   "version": "3.9.18"
  }
 },
 "nbformat": 4,
 "nbformat_minor": 5
}
