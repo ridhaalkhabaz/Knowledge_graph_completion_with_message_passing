{
 "cells": [
  {
   "cell_type": "code",
   "execution_count": 1,
   "id": "c57a182a-e844-4125-b385-485f32d6614f",
   "metadata": {},
   "outputs": [],
   "source": [
    "import argparse\n",
    "import os.path as osp\n",
    "\n",
    "import torch\n",
    "import torch.optim as optim\n",
    "\n",
    "from torch_geometric.datasets import FB15k_237\n",
    "from torch_geometric.nn import ComplEx, DistMult, RotatE, TransE\n"
   ]
  },
  {
   "cell_type": "code",
   "execution_count": 4,
   "id": "d8ee1b73-f13f-435e-b79c-7023cca7485a",
   "metadata": {},
   "outputs": [],
   "source": [
    "model_type = 'complex'"
   ]
  },
  {
   "cell_type": "code",
   "execution_count": 5,
   "id": "798dd3ed-2994-4dfc-8474-26e54a003e2a",
   "metadata": {},
   "outputs": [],
   "source": [
    "\n",
    "model_map = {\n",
    "    'transe': TransE,\n",
    "    'complex': ComplEx,\n",
    "    'distmult': DistMult,\n",
    "    'rotate': RotatE,\n",
    "}\n",
    "\n",
    "device = 'cuda' if torch.cuda.is_available() else 'cpu'\n",
    "path = 'data'\n",
    "\n",
    "train_data = FB15k_237(path, split='train')[0].to(device)\n",
    "val_data = FB15k_237(path, split='val')[0].to(device)\n",
    "test_data = FB15k_237(path, split='test')[0].to(device)\n",
    "\n",
    "model_arg_map = {'rotate': {'margin': 9.0}}\n",
    "model = model_map[model_type](\n",
    "    num_nodes=train_data.num_nodes,\n",
    "    num_relations=train_data.num_edge_types,\n",
    "    hidden_channels=50,\n",
    "    **model_arg_map.get(model_type, {}),\n",
    ").to(device)\n",
    "\n",
    "loader = model.loader(\n",
    "    head_index=train_data.edge_index[0],\n",
    "    rel_type=train_data.edge_type,\n",
    "    tail_index=train_data.edge_index[1],\n",
    "    batch_size=1000,\n",
    "    shuffle=True,\n",
    ")\n",
    "\n",
    "optimizer_map = {\n",
    "    'transe': optim.Adam(model.parameters(), lr=0.01),\n",
    "    'complex': optim.Adagrad(model.parameters(), lr=0.001, weight_decay=1e-6),\n",
    "    'distmult': optim.Adam(model.parameters(), lr=0.0001, weight_decay=1e-6),\n",
    "    'rotate': optim.Adam(model.parameters(), lr=1e-3),\n",
    "}\n",
    "optimizer = optimizer_map[model_type]\n",
    "\n",
    "\n",
    "def train():\n",
    "    model.train()\n",
    "    total_loss = total_examples = 0\n",
    "    for head_index, rel_type, tail_index in loader:\n",
    "        optimizer.zero_grad()\n",
    "        loss = model.loss(head_index, rel_type, tail_index)\n",
    "        loss.backward()\n",
    "        optimizer.step()\n",
    "        total_loss += float(loss) * head_index.numel()\n",
    "        total_examples += head_index.numel()\n",
    "    return total_loss / total_examples\n",
    "\n",
    "\n",
    "@torch.no_grad()\n",
    "def test(data):\n",
    "    model.eval()\n",
    "    return model.test(\n",
    "        head_index=data.edge_index[0],\n",
    "        rel_type=data.edge_type,\n",
    "        tail_index=data.edge_index[1],\n",
    "        batch_size=20000,\n",
    "        k=10,\n",
    "    )\n",
    "\n",
    "\n"
   ]
  },
  {
   "cell_type": "code",
   "execution_count": 7,
   "id": "2a0cd532-73e1-42a6-b436-de523c24fe0b",
   "metadata": {},
   "outputs": [
    {
     "name": "stdout",
     "output_type": "stream",
     "text": [
      "Epoch: 001, Loss: 0.6925\n",
      "Epoch: 002, Loss: 0.6922\n",
      "Epoch: 003, Loss: 0.6919\n",
      "Epoch: 004, Loss: 0.6915\n",
      "Epoch: 005, Loss: 0.6910\n",
      "Epoch: 006, Loss: 0.6905\n",
      "Epoch: 007, Loss: 0.6899\n",
      "Epoch: 008, Loss: 0.6893\n",
      "Epoch: 009, Loss: 0.6886\n",
      "Epoch: 010, Loss: 0.6878\n",
      "Epoch: 011, Loss: 0.6869\n",
      "Epoch: 012, Loss: 0.6861\n",
      "Epoch: 013, Loss: 0.6851\n",
      "Epoch: 014, Loss: 0.6841\n",
      "Epoch: 015, Loss: 0.6830\n",
      "Epoch: 016, Loss: 0.6819\n",
      "Epoch: 017, Loss: 0.6808\n",
      "Epoch: 018, Loss: 0.6796\n",
      "Epoch: 019, Loss: 0.6784\n",
      "Epoch: 020, Loss: 0.6771\n",
      "Epoch: 021, Loss: 0.6758\n",
      "Epoch: 022, Loss: 0.6744\n",
      "Epoch: 023, Loss: 0.6730\n",
      "Epoch: 024, Loss: 0.6717\n",
      "Epoch: 025, Loss: 0.6702\n"
     ]
    },
    {
     "name": "stderr",
     "output_type": "stream",
     "text": [
      "100%|████████████████████████████████████████████████████████████████████████████████████████████████████████████████████████████████████████████████████████████████████████████████████████████████████████████████████████████████████████████████████████████████████████████████████████████████████████████████████████████████| 17535/17535 [01:43<00:00, 169.63it/s]\n"
     ]
    },
    {
     "ename": "ValueError",
     "evalue": "not enough values to unpack (expected 3, got 2)",
     "output_type": "error",
     "traceback": [
      "\u001b[0;31m---------------------------------------------------------------------------\u001b[0m",
      "\u001b[0;31mValueError\u001b[0m                                Traceback (most recent call last)",
      "Cell \u001b[0;32mIn[7], line 5\u001b[0m\n\u001b[1;32m      3\u001b[0m     \u001b[38;5;28mprint\u001b[39m(\u001b[38;5;124mf\u001b[39m\u001b[38;5;124m'\u001b[39m\u001b[38;5;124mEpoch: \u001b[39m\u001b[38;5;132;01m{\u001b[39;00mepoch\u001b[38;5;132;01m:\u001b[39;00m\u001b[38;5;124m03d\u001b[39m\u001b[38;5;132;01m}\u001b[39;00m\u001b[38;5;124m, Loss: \u001b[39m\u001b[38;5;132;01m{\u001b[39;00mloss\u001b[38;5;132;01m:\u001b[39;00m\u001b[38;5;124m.4f\u001b[39m\u001b[38;5;132;01m}\u001b[39;00m\u001b[38;5;124m'\u001b[39m)\n\u001b[1;32m      4\u001b[0m     \u001b[38;5;28;01mif\u001b[39;00m epoch \u001b[38;5;241m%\u001b[39m \u001b[38;5;241m25\u001b[39m \u001b[38;5;241m==\u001b[39m \u001b[38;5;241m0\u001b[39m:\n\u001b[0;32m----> 5\u001b[0m         rank, mrr, hits \u001b[38;5;241m=\u001b[39m test(val_data)\n\u001b[1;32m      6\u001b[0m         \u001b[38;5;28mprint\u001b[39m(\u001b[38;5;124mf\u001b[39m\u001b[38;5;124m'\u001b[39m\u001b[38;5;124mEpoch: \u001b[39m\u001b[38;5;132;01m{\u001b[39;00mepoch\u001b[38;5;132;01m:\u001b[39;00m\u001b[38;5;124m03d\u001b[39m\u001b[38;5;132;01m}\u001b[39;00m\u001b[38;5;124m, Val Mean Rank: \u001b[39m\u001b[38;5;132;01m{\u001b[39;00mrank\u001b[38;5;132;01m:\u001b[39;00m\u001b[38;5;124m.2f\u001b[39m\u001b[38;5;132;01m}\u001b[39;00m\u001b[38;5;124m, \u001b[39m\u001b[38;5;124m'\u001b[39m\n\u001b[1;32m      7\u001b[0m               \u001b[38;5;124mf\u001b[39m\u001b[38;5;124m'\u001b[39m\u001b[38;5;124mVal MRR: \u001b[39m\u001b[38;5;132;01m{\u001b[39;00mmrr\u001b[38;5;132;01m:\u001b[39;00m\u001b[38;5;124m.4f\u001b[39m\u001b[38;5;132;01m}\u001b[39;00m\u001b[38;5;124m, Val Hits@10: \u001b[39m\u001b[38;5;132;01m{\u001b[39;00mhits\u001b[38;5;132;01m:\u001b[39;00m\u001b[38;5;124m.4f\u001b[39m\u001b[38;5;132;01m}\u001b[39;00m\u001b[38;5;124m'\u001b[39m)\n\u001b[1;32m      9\u001b[0m rank, mrr, hits_at_10 \u001b[38;5;241m=\u001b[39m test(test_data)\n",
      "\u001b[0;31mValueError\u001b[0m: not enough values to unpack (expected 3, got 2)"
     ]
    }
   ],
   "source": [
    "for epoch in range(1, 101):\n",
    "    loss = train()\n",
    "    print(f'Epoch: {epoch:03d}, Loss: {loss:.4f}')\n",
    "    if epoch % 25 == 0:\n",
    "        rank, mrr, hits = test(val_data)\n",
    "        print(f'Epoch: {epoch:03d}, Val Mean Rank: {rank:.2f}, '\n",
    "              f'Val MRR: {mrr:.4f}, Val Hits@10: {hits:.4f}')\n",
    "\n",
    "rank, mrr, hits_at_10 = test(test_data)\n",
    "print(f'Test Mean Rank: {rank:.2f}, Test MRR: {mrr:.4f}, '\n",
    "      f'Test Hits@10: {hits_at_10:.4f}')"
   ]
  },
  {
   "cell_type": "code",
   "execution_count": null,
   "id": "c3e1c91d-c3c0-4100-90ba-addd2d39b02b",
   "metadata": {},
   "outputs": [],
   "source": []
  }
 ],
 "metadata": {
  "kernelspec": {
   "display_name": "Python 3 (ipykernel)",
   "language": "python",
   "name": "python3"
  },
  "language_info": {
   "codemirror_mode": {
    "name": "ipython",
    "version": 3
   },
   "file_extension": ".py",
   "mimetype": "text/x-python",
   "name": "python",
   "nbconvert_exporter": "python",
   "pygments_lexer": "ipython3",
   "version": "3.9.18"
  }
 },
 "nbformat": 4,
 "nbformat_minor": 5
}
