{
 "cells": [
  {
   "cell_type": "markdown",
   "id": "9fbcfe22-83c8-4400-b35d-b218579771db",
   "metadata": {},
   "source": [
    "# Traditional Knowledge Graph Completion Methods \n",
    "#### Author: Ridha Alkhbaz \n",
    "#### Imports:\n"
   ]
  },
  {
   "cell_type": "code",
   "execution_count": 1,
   "id": "c57a182a-e844-4125-b385-485f32d6614f",
   "metadata": {},
   "outputs": [],
   "source": [
    "import argparse\n",
    "import os.path as osp\n",
    "\n",
    "import torch\n",
    "import torch.optim as optim\n",
    "\n",
    "from torch_geometric.datasets import FB15k_237\n",
    "from torch_geometric.nn import ComplEx, DistMult, RotatE, TransE\n"
   ]
  },
  {
   "cell_type": "markdown",
   "id": "f1419aa8-b4a7-4cfd-9d55-19c77626a336",
   "metadata": {},
   "source": [
    "### DistMult Replication & Data Download:"
   ]
  },
  {
   "cell_type": "code",
   "execution_count": 4,
   "id": "798dd3ed-2994-4dfc-8474-26e54a003e2a",
   "metadata": {},
   "outputs": [
    {
     "name": "stdout",
     "output_type": "stream",
     "text": [
      "Epoch: 001, Loss: 1.0000\n",
      "Epoch: 002, Loss: 1.0000\n",
      "Epoch: 003, Loss: 0.9999\n",
      "Epoch: 004, Loss: 0.9997\n",
      "Epoch: 005, Loss: 0.9986\n",
      "Epoch: 006, Loss: 0.9949\n",
      "Epoch: 007, Loss: 0.9859\n",
      "Epoch: 008, Loss: 0.9691\n",
      "Epoch: 009, Loss: 0.9426\n",
      "Epoch: 010, Loss: 0.9050\n",
      "Epoch: 011, Loss: 0.8562\n",
      "Epoch: 012, Loss: 0.8016\n",
      "Epoch: 013, Loss: 0.7470\n",
      "Epoch: 014, Loss: 0.6936\n",
      "Epoch: 015, Loss: 0.6423\n",
      "Epoch: 016, Loss: 0.5942\n",
      "Epoch: 017, Loss: 0.5510\n",
      "Epoch: 018, Loss: 0.5109\n",
      "Epoch: 019, Loss: 0.4748\n",
      "Epoch: 020, Loss: 0.4433\n",
      "Epoch: 021, Loss: 0.4152\n",
      "Epoch: 022, Loss: 0.3890\n",
      "Epoch: 023, Loss: 0.3666\n",
      "Epoch: 024, Loss: 0.3461\n",
      "Epoch: 025, Loss: 0.3278\n"
     ]
    },
    {
     "name": "stderr",
     "output_type": "stream",
     "text": [
      "100%|████████████████████████████████████████████████████████████████████████████████████████████████████████████████████████████████████████████████████████████████████████████████████████████████████████████████████████████████████████████████████████████████████████████████████████████████████████████████████████████████| 17535/17535 [00:42<00:00, 413.96it/s]\n"
     ]
    },
    {
     "name": "stdout",
     "output_type": "stream",
     "text": [
      "Epoch: 025, Val Mean Rank: 590.53, Val MRR: 0.3496\n",
      "Epoch: 026, Loss: 0.3105\n",
      "Epoch: 027, Loss: 0.2939\n",
      "Epoch: 028, Loss: 0.2803\n",
      "Epoch: 029, Loss: 0.2677\n",
      "Epoch: 030, Loss: 0.2555\n",
      "Epoch: 031, Loss: 0.2441\n",
      "Epoch: 032, Loss: 0.2330\n",
      "Epoch: 033, Loss: 0.2240\n",
      "Epoch: 034, Loss: 0.2145\n",
      "Epoch: 035, Loss: 0.2066\n",
      "Epoch: 036, Loss: 0.1999\n",
      "Epoch: 037, Loss: 0.1914\n",
      "Epoch: 038, Loss: 0.1846\n",
      "Epoch: 039, Loss: 0.1792\n",
      "Epoch: 040, Loss: 0.1729\n",
      "Epoch: 041, Loss: 0.1670\n",
      "Epoch: 042, Loss: 0.1622\n",
      "Epoch: 043, Loss: 0.1577\n",
      "Epoch: 044, Loss: 0.1514\n",
      "Epoch: 045, Loss: 0.1492\n",
      "Epoch: 046, Loss: 0.1436\n",
      "Epoch: 047, Loss: 0.1410\n",
      "Epoch: 048, Loss: 0.1359\n",
      "Epoch: 049, Loss: 0.1328\n",
      "Epoch: 050, Loss: 0.1301\n"
     ]
    },
    {
     "name": "stderr",
     "output_type": "stream",
     "text": [
      "100%|████████████████████████████████████████████████████████████████████████████████████████████████████████████████████████████████████████████████████████████████████████████████████████████████████████████████████████████████████████████████████████████████████████████████████████████████████████████████████████████████| 17535/17535 [00:43<00:00, 407.38it/s]\n"
     ]
    },
    {
     "name": "stdout",
     "output_type": "stream",
     "text": [
      "Epoch: 050, Val Mean Rank: 461.15, Val MRR: 0.3690\n",
      "Epoch: 051, Loss: 0.1266\n",
      "Epoch: 052, Loss: 0.1238\n",
      "Epoch: 053, Loss: 0.1212\n",
      "Epoch: 054, Loss: 0.1188\n",
      "Epoch: 055, Loss: 0.1151\n",
      "Epoch: 056, Loss: 0.1131\n",
      "Epoch: 057, Loss: 0.1109\n",
      "Epoch: 058, Loss: 0.1089\n",
      "Epoch: 059, Loss: 0.1060\n",
      "Epoch: 060, Loss: 0.1058\n",
      "Epoch: 061, Loss: 0.1033\n",
      "Epoch: 062, Loss: 0.1009\n",
      "Epoch: 063, Loss: 0.1003\n",
      "Epoch: 064, Loss: 0.0977\n",
      "Epoch: 065, Loss: 0.0958\n",
      "Epoch: 066, Loss: 0.0948\n",
      "Epoch: 067, Loss: 0.0927\n",
      "Epoch: 068, Loss: 0.0923\n",
      "Epoch: 069, Loss: 0.0906\n",
      "Epoch: 070, Loss: 0.0888\n",
      "Epoch: 071, Loss: 0.0875\n",
      "Epoch: 072, Loss: 0.0864\n",
      "Epoch: 073, Loss: 0.0862\n",
      "Epoch: 074, Loss: 0.0846\n",
      "Epoch: 075, Loss: 0.0841\n"
     ]
    },
    {
     "name": "stderr",
     "output_type": "stream",
     "text": [
      "100%|████████████████████████████████████████████████████████████████████████████████████████████████████████████████████████████████████████████████████████████████████████████████████████████████████████████████████████████████████████████████████████████████████████████████████████████████████████████████████████████████| 17535/17535 [00:41<00:00, 420.82it/s]\n"
     ]
    },
    {
     "name": "stdout",
     "output_type": "stream",
     "text": [
      "Epoch: 075, Val Mean Rank: 379.76, Val MRR: 0.3771\n",
      "Epoch: 076, Loss: 0.0823\n",
      "Epoch: 077, Loss: 0.0809\n",
      "Epoch: 078, Loss: 0.0805\n",
      "Epoch: 079, Loss: 0.0796\n",
      "Epoch: 080, Loss: 0.0787\n",
      "Epoch: 081, Loss: 0.0781\n",
      "Epoch: 082, Loss: 0.0774\n",
      "Epoch: 083, Loss: 0.0765\n",
      "Epoch: 084, Loss: 0.0751\n",
      "Epoch: 085, Loss: 0.0737\n",
      "Epoch: 086, Loss: 0.0749\n",
      "Epoch: 087, Loss: 0.0728\n",
      "Epoch: 088, Loss: 0.0728\n",
      "Epoch: 089, Loss: 0.0714\n",
      "Epoch: 090, Loss: 0.0710\n",
      "Epoch: 091, Loss: 0.0702\n",
      "Epoch: 092, Loss: 0.0692\n",
      "Epoch: 093, Loss: 0.0699\n",
      "Epoch: 094, Loss: 0.0690\n",
      "Epoch: 095, Loss: 0.0684\n",
      "Epoch: 096, Loss: 0.0683\n",
      "Epoch: 097, Loss: 0.0667\n",
      "Epoch: 098, Loss: 0.0668\n",
      "Epoch: 099, Loss: 0.0667\n",
      "Epoch: 100, Loss: 0.0653\n"
     ]
    },
    {
     "name": "stderr",
     "output_type": "stream",
     "text": [
      "100%|████████████████████████████████████████████████████████████████████████████████████████████████████████████████████████████████████████████████████████████████████████████████████████████████████████████████████████████████████████████████████████████████████████████████████████████████████████████████████████████████| 17535/17535 [00:44<00:00, 393.68it/s]\n"
     ]
    },
    {
     "name": "stdout",
     "output_type": "stream",
     "text": [
      "Epoch: 100, Val Mean Rank: 340.48, Val MRR: 0.3840\n"
     ]
    },
    {
     "name": "stderr",
     "output_type": "stream",
     "text": [
      "100%|████████████████████████████████████████████████████████████████████████████████████████████████████████████████████████████████████████████████████████████████████████████████████████████████████████████████████████████████████████████████████████████████████████████████████████████████████████████████████████████████| 20466/20466 [00:49<00:00, 413.56it/s]\n"
     ]
    },
    {
     "name": "stdout",
     "output_type": "stream",
     "text": [
      "Test Mean Rank: 355.97, Test MRR: 0.3796, \n",
      "Epoch: 101, Loss: 0.0650\n",
      "Epoch: 102, Loss: 0.0652\n",
      "Epoch: 103, Loss: 0.0640\n",
      "Epoch: 104, Loss: 0.0637\n",
      "Epoch: 105, Loss: 0.0636\n",
      "Epoch: 106, Loss: 0.0627\n",
      "Epoch: 107, Loss: 0.0634\n",
      "Epoch: 108, Loss: 0.0623\n",
      "Epoch: 109, Loss: 0.0617\n",
      "Epoch: 110, Loss: 0.0607\n",
      "Epoch: 111, Loss: 0.0601\n",
      "Epoch: 112, Loss: 0.0607\n",
      "Epoch: 113, Loss: 0.0605\n",
      "Epoch: 114, Loss: 0.0594\n",
      "Epoch: 115, Loss: 0.0589\n",
      "Epoch: 116, Loss: 0.0589\n",
      "Epoch: 117, Loss: 0.0582\n",
      "Epoch: 118, Loss: 0.0585\n",
      "Epoch: 119, Loss: 0.0582\n",
      "Epoch: 120, Loss: 0.0577\n",
      "Epoch: 121, Loss: 0.0578\n",
      "Epoch: 122, Loss: 0.0567\n",
      "Epoch: 123, Loss: 0.0572\n",
      "Epoch: 124, Loss: 0.0569\n",
      "Epoch: 125, Loss: 0.0558\n"
     ]
    },
    {
     "name": "stderr",
     "output_type": "stream",
     "text": [
      "100%|████████████████████████████████████████████████████████████████████████████████████████████████████████████████████████████████████████████████████████████████████████████████████████████████████████████████████████████████████████████████████████████████████████████████████████████████████████████████████████████████| 17535/17535 [00:41<00:00, 419.07it/s]\n"
     ]
    },
    {
     "name": "stdout",
     "output_type": "stream",
     "text": [
      "Epoch: 125, Val Mean Rank: 314.79, Val MRR: 0.3885\n",
      "Epoch: 126, Loss: 0.0560\n",
      "Epoch: 127, Loss: 0.0553\n",
      "Epoch: 128, Loss: 0.0554\n",
      "Epoch: 129, Loss: 0.0550\n",
      "Epoch: 130, Loss: 0.0553\n",
      "Epoch: 131, Loss: 0.0552\n",
      "Epoch: 132, Loss: 0.0548\n",
      "Epoch: 133, Loss: 0.0550\n",
      "Epoch: 134, Loss: 0.0538\n",
      "Epoch: 135, Loss: 0.0537\n",
      "Epoch: 136, Loss: 0.0528\n",
      "Epoch: 137, Loss: 0.0533\n",
      "Epoch: 138, Loss: 0.0525\n",
      "Epoch: 139, Loss: 0.0524\n",
      "Epoch: 140, Loss: 0.0527\n",
      "Epoch: 141, Loss: 0.0523\n",
      "Epoch: 142, Loss: 0.0519\n",
      "Epoch: 143, Loss: 0.0514\n",
      "Epoch: 144, Loss: 0.0518\n",
      "Epoch: 145, Loss: 0.0509\n",
      "Epoch: 146, Loss: 0.0512\n",
      "Epoch: 147, Loss: 0.0506\n",
      "Epoch: 148, Loss: 0.0502\n",
      "Epoch: 149, Loss: 0.0506\n",
      "Epoch: 150, Loss: 0.0496\n"
     ]
    },
    {
     "name": "stderr",
     "output_type": "stream",
     "text": [
      "100%|████████████████████████████████████████████████████████████████████████████████████████████████████████████████████████████████████████████████████████████████████████████████████████████████████████████████████████████████████████████████████████████████████████████████████████████████████████████████████████████████| 17535/17535 [00:42<00:00, 414.54it/s]\n"
     ]
    },
    {
     "name": "stdout",
     "output_type": "stream",
     "text": [
      "Epoch: 150, Val Mean Rank: 297.57, Val MRR: 0.3918\n",
      "Epoch: 151, Loss: 0.0501\n",
      "Epoch: 152, Loss: 0.0500\n",
      "Epoch: 153, Loss: 0.0489\n",
      "Epoch: 154, Loss: 0.0497\n",
      "Epoch: 155, Loss: 0.0494\n",
      "Epoch: 156, Loss: 0.0483\n",
      "Epoch: 157, Loss: 0.0491\n",
      "Epoch: 158, Loss: 0.0486\n",
      "Epoch: 159, Loss: 0.0487\n",
      "Epoch: 160, Loss: 0.0479\n",
      "Epoch: 161, Loss: 0.0477\n",
      "Epoch: 162, Loss: 0.0474\n",
      "Epoch: 163, Loss: 0.0476\n",
      "Epoch: 164, Loss: 0.0482\n",
      "Epoch: 165, Loss: 0.0477\n",
      "Epoch: 166, Loss: 0.0476\n",
      "Epoch: 167, Loss: 0.0474\n",
      "Epoch: 168, Loss: 0.0466\n",
      "Epoch: 169, Loss: 0.0466\n",
      "Epoch: 170, Loss: 0.0466\n",
      "Epoch: 171, Loss: 0.0462\n",
      "Epoch: 172, Loss: 0.0461\n",
      "Epoch: 173, Loss: 0.0464\n",
      "Epoch: 174, Loss: 0.0465\n",
      "Epoch: 175, Loss: 0.0465\n"
     ]
    },
    {
     "name": "stderr",
     "output_type": "stream",
     "text": [
      "100%|████████████████████████████████████████████████████████████████████████████████████████████████████████████████████████████████████████████████████████████████████████████████████████████████████████████████████████████████████████████████████████████████████████████████████████████████████████████████████████████████| 17535/17535 [00:41<00:00, 417.70it/s]\n"
     ]
    },
    {
     "name": "stdout",
     "output_type": "stream",
     "text": [
      "Epoch: 175, Val Mean Rank: 284.53, Val MRR: 0.3956\n",
      "Epoch: 176, Loss: 0.0464\n",
      "Epoch: 177, Loss: 0.0448\n",
      "Epoch: 178, Loss: 0.0455\n",
      "Epoch: 179, Loss: 0.0459\n",
      "Epoch: 180, Loss: 0.0461\n",
      "Epoch: 181, Loss: 0.0456\n",
      "Epoch: 182, Loss: 0.0447\n",
      "Epoch: 183, Loss: 0.0457\n",
      "Epoch: 184, Loss: 0.0443\n",
      "Epoch: 185, Loss: 0.0447\n",
      "Epoch: 186, Loss: 0.0441\n",
      "Epoch: 187, Loss: 0.0441\n",
      "Epoch: 188, Loss: 0.0445\n",
      "Epoch: 189, Loss: 0.0443\n",
      "Epoch: 190, Loss: 0.0437\n",
      "Epoch: 191, Loss: 0.0438\n",
      "Epoch: 192, Loss: 0.0441\n",
      "Epoch: 193, Loss: 0.0432\n",
      "Epoch: 194, Loss: 0.0434\n",
      "Epoch: 195, Loss: 0.0439\n",
      "Epoch: 196, Loss: 0.0431\n",
      "Epoch: 197, Loss: 0.0427\n",
      "Epoch: 198, Loss: 0.0428\n",
      "Epoch: 199, Loss: 0.0430\n",
      "Epoch: 200, Loss: 0.0428\n"
     ]
    },
    {
     "name": "stderr",
     "output_type": "stream",
     "text": [
      "100%|████████████████████████████████████████████████████████████████████████████████████████████████████████████████████████████████████████████████████████████████████████████████████████████████████████████████████████████████████████████████████████████████████████████████████████████████████████████████████████████████| 17535/17535 [00:42<00:00, 414.73it/s]\n"
     ]
    },
    {
     "name": "stdout",
     "output_type": "stream",
     "text": [
      "Epoch: 200, Val Mean Rank: 273.99, Val MRR: 0.3981\n"
     ]
    },
    {
     "name": "stderr",
     "output_type": "stream",
     "text": [
      "100%|████████████████████████████████████████████████████████████████████████████████████████████████████████████████████████████████████████████████████████████████████████████████████████████████████████████████████████████████████████████████████████████████████████████████████████████████████████████████████████████████| 20466/20466 [00:48<00:00, 422.17it/s]"
     ]
    },
    {
     "name": "stdout",
     "output_type": "stream",
     "text": [
      "Test Mean Rank: 287.34, Test MRR: 0.3936, \n"
     ]
    },
    {
     "name": "stderr",
     "output_type": "stream",
     "text": [
      "\n"
     ]
    }
   ],
   "source": [
    "# choose the model here \n",
    "model_type = 'distmult'\n",
    "model_map = {\n",
    "    'transe': TransE,\n",
    "    'complex': ComplEx,\n",
    "    'distmult': DistMult,\n",
    "    'rotate': RotatE,\n",
    "}\n",
    "\n",
    "device = 'cuda' if torch.cuda.is_available() else 'cpu'\n",
    "path = 'data'\n",
    "\n",
    "train_data = FB15k_237(path, split='train')[0].to(device)\n",
    "val_data = FB15k_237(path, split='val')[0].to(device)\n",
    "test_data = FB15k_237(path, split='test')[0].to(device)\n",
    "\n",
    "model_arg_map = {'rotate': {'margin': 9.0}}\n",
    "model = model_map[model_type](\n",
    "    num_nodes=train_data.num_nodes,\n",
    "    num_relations=train_data.num_edge_types,\n",
    "    hidden_channels=50,\n",
    "    **model_arg_map.get(model_type, {}),\n",
    ").to(device)\n",
    "\n",
    "loader = model.loader(\n",
    "    head_index=train_data.edge_index[0],\n",
    "    rel_type=train_data.edge_type,\n",
    "    tail_index=train_data.edge_index[1],\n",
    "    batch_size=1000,\n",
    "    shuffle=True,\n",
    ")\n",
    "\n",
    "optimizer_map = {\n",
    "    'transe': optim.Adam(model.parameters(), lr=0.01),\n",
    "    'complex': optim.Adagrad(model.parameters(), lr=0.001, weight_decay=1e-6),\n",
    "    'distmult': optim.Adam(model.parameters(), lr=0.0001, weight_decay=1e-6),\n",
    "    'rotate': optim.Adam(model.parameters(), lr=1e-3),\n",
    "}\n",
    "optimizer = optimizer_map[model_type]\n",
    "\n",
    "\n",
    "def train():\n",
    "    model.train()\n",
    "    total_loss = total_examples = 0\n",
    "    for head_index, rel_type, tail_index in loader:\n",
    "        optimizer.zero_grad()\n",
    "        loss = model.loss(head_index, rel_type, tail_index)\n",
    "        loss.backward()\n",
    "        optimizer.step()\n",
    "        total_loss += float(loss) * head_index.numel()\n",
    "        total_examples += head_index.numel()\n",
    "    return total_loss / total_examples\n",
    "\n",
    "\n",
    "@torch.no_grad()\n",
    "def test(data):\n",
    "    model.eval()\n",
    "    return model.test(\n",
    "        head_index=data.edge_index[0],\n",
    "        rel_type=data.edge_type,\n",
    "        tail_index=data.edge_index[1],\n",
    "        batch_size=20000,\n",
    "        k=10,\n",
    "    )\n",
    "\n",
    "# training and testing Distmult \n",
    "for epoch in range(1, 201):\n",
    "    loss = train()\n",
    "    print(f'Epoch: {epoch:03d}, Loss: {loss:.4f}')\n",
    "    if epoch % 25 == 0:\n",
    "        rank, mrr = test(val_data)\n",
    "        print(f'Epoch: {epoch:03d}, Val Mean Rank: {rank:.2f}, '\n",
    "              f'Val MRR: {mrr:.4f}')\n",
    "    if epoch % 100 == 0:\n",
    "        rank, mrr = test(test_data)\n",
    "        print(f'Test Mean Rank: {rank:.2f}, Test MRR: {mrr:.4f}, ')\n",
    "        mrr = round(mrr*100, 4)\n",
    "        torch.save(model.state_dict(), './mods/distmult_mods/distmult_fbk_epch'+str(epoch+100)+'_mrr'+str(mrr)+'.pt')\n"
   ]
  },
  {
   "cell_type": "markdown",
   "id": "1247b7f1-d604-4598-ae91-4954965c516e",
   "metadata": {},
   "source": [
    "#### TranSe Model "
   ]
  },
  {
   "cell_type": "code",
   "execution_count": 5,
   "id": "452323e9-263d-48b3-9760-8e92aa915abc",
   "metadata": {
    "scrolled": true
   },
   "outputs": [
    {
     "name": "stdout",
     "output_type": "stream",
     "text": [
      "Epoch: 001, Loss: 0.7595\n",
      "Epoch: 002, Loss: 0.5594\n",
      "Epoch: 003, Loss: 0.4406\n",
      "Epoch: 004, Loss: 0.3551\n",
      "Epoch: 005, Loss: 0.3019\n",
      "Epoch: 006, Loss: 0.2672\n",
      "Epoch: 007, Loss: 0.2441\n",
      "Epoch: 008, Loss: 0.2283\n",
      "Epoch: 009, Loss: 0.2163\n",
      "Epoch: 010, Loss: 0.2054\n",
      "Epoch: 011, Loss: 0.2003\n",
      "Epoch: 012, Loss: 0.1937\n",
      "Epoch: 013, Loss: 0.1887\n",
      "Epoch: 014, Loss: 0.1843\n",
      "Epoch: 015, Loss: 0.1796\n",
      "Epoch: 016, Loss: 0.1763\n",
      "Epoch: 017, Loss: 0.1725\n",
      "Epoch: 018, Loss: 0.1698\n",
      "Epoch: 019, Loss: 0.1665\n",
      "Epoch: 020, Loss: 0.1643\n",
      "Epoch: 021, Loss: 0.1622\n",
      "Epoch: 022, Loss: 0.1598\n",
      "Epoch: 023, Loss: 0.1571\n",
      "Epoch: 024, Loss: 0.1544\n",
      "Epoch: 025, Loss: 0.1524\n"
     ]
    },
    {
     "name": "stderr",
     "output_type": "stream",
     "text": [
      "100%|█████████████████████████████████████████████████████████████████████████████████████████████████████████████████████████████████████████████████████████████████████████████████████████████████████████████████████████████████████████████████████████████████████████████████████████████████████████████████████████████████| 17535/17535 [04:19<00:00, 67.58it/s]\n"
     ]
    },
    {
     "name": "stdout",
     "output_type": "stream",
     "text": [
      "Epoch: 025, Val Mean Rank: 427.71, Val MRR: 0.3598\n",
      "Epoch: 026, Loss: 0.1518\n",
      "Epoch: 027, Loss: 0.1497\n",
      "Epoch: 028, Loss: 0.1487\n",
      "Epoch: 029, Loss: 0.1451\n",
      "Epoch: 030, Loss: 0.1447\n",
      "Epoch: 031, Loss: 0.1438\n",
      "Epoch: 032, Loss: 0.1417\n",
      "Epoch: 033, Loss: 0.1400\n",
      "Epoch: 034, Loss: 0.1389\n",
      "Epoch: 035, Loss: 0.1379\n",
      "Epoch: 036, Loss: 0.1357\n",
      "Epoch: 037, Loss: 0.1355\n",
      "Epoch: 038, Loss: 0.1344\n",
      "Epoch: 039, Loss: 0.1327\n",
      "Epoch: 040, Loss: 0.1313\n",
      "Epoch: 041, Loss: 0.1305\n",
      "Epoch: 042, Loss: 0.1288\n",
      "Epoch: 043, Loss: 0.1289\n",
      "Epoch: 044, Loss: 0.1276\n",
      "Epoch: 045, Loss: 0.1269\n",
      "Epoch: 046, Loss: 0.1252\n",
      "Epoch: 047, Loss: 0.1232\n",
      "Epoch: 048, Loss: 0.1223\n",
      "Epoch: 049, Loss: 0.1215\n",
      "Epoch: 050, Loss: 0.1207\n"
     ]
    },
    {
     "name": "stderr",
     "output_type": "stream",
     "text": [
      "100%|█████████████████████████████████████████████████████████████████████████████████████████████████████████████████████████████████████████████████████████████████████████████████████████████████████████████████████████████████████████████████████████████████████████████████████████████████████████████████████████████████| 17535/17535 [04:28<00:00, 65.26it/s]\n"
     ]
    },
    {
     "name": "stdout",
     "output_type": "stream",
     "text": [
      "Epoch: 050, Val Mean Rank: 355.37, Val MRR: 0.3588\n",
      "Epoch: 051, Loss: 0.1210\n",
      "Epoch: 052, Loss: 0.1204\n",
      "Epoch: 053, Loss: 0.1191\n",
      "Epoch: 054, Loss: 0.1188\n",
      "Epoch: 055, Loss: 0.1180\n",
      "Epoch: 056, Loss: 0.1171\n",
      "Epoch: 057, Loss: 0.1153\n",
      "Epoch: 058, Loss: 0.1159\n",
      "Epoch: 059, Loss: 0.1154\n",
      "Epoch: 060, Loss: 0.1150\n",
      "Epoch: 061, Loss: 0.1149\n",
      "Epoch: 062, Loss: 0.1135\n",
      "Epoch: 063, Loss: 0.1138\n",
      "Epoch: 064, Loss: 0.1126\n",
      "Epoch: 065, Loss: 0.1122\n",
      "Epoch: 066, Loss: 0.1119\n",
      "Epoch: 067, Loss: 0.1112\n",
      "Epoch: 068, Loss: 0.1107\n",
      "Epoch: 069, Loss: 0.1100\n",
      "Epoch: 070, Loss: 0.1091\n",
      "Epoch: 071, Loss: 0.1089\n",
      "Epoch: 072, Loss: 0.1093\n",
      "Epoch: 073, Loss: 0.1084\n",
      "Epoch: 074, Loss: 0.1075\n",
      "Epoch: 075, Loss: 0.1073\n"
     ]
    },
    {
     "name": "stderr",
     "output_type": "stream",
     "text": [
      "100%|█████████████████████████████████████████████████████████████████████████████████████████████████████████████████████████████████████████████████████████████████████████████████████████████████████████████████████████████████████████████████████████████████████████████████████████████████████████████████████████████████| 17535/17535 [04:33<00:00, 64.07it/s]\n"
     ]
    },
    {
     "name": "stdout",
     "output_type": "stream",
     "text": [
      "Epoch: 075, Val Mean Rank: 327.03, Val MRR: 0.3623\n",
      "Epoch: 076, Loss: 0.1069\n",
      "Epoch: 077, Loss: 0.1063\n",
      "Epoch: 078, Loss: 0.1058\n",
      "Epoch: 079, Loss: 0.1062\n",
      "Epoch: 080, Loss: 0.1048\n",
      "Epoch: 081, Loss: 0.1046\n",
      "Epoch: 082, Loss: 0.1050\n",
      "Epoch: 083, Loss: 0.1041\n",
      "Epoch: 084, Loss: 0.1037\n",
      "Epoch: 085, Loss: 0.1037\n",
      "Epoch: 086, Loss: 0.1033\n",
      "Epoch: 087, Loss: 0.1022\n",
      "Epoch: 088, Loss: 0.1025\n",
      "Epoch: 089, Loss: 0.1011\n",
      "Epoch: 090, Loss: 0.1019\n",
      "Epoch: 091, Loss: 0.1016\n",
      "Epoch: 092, Loss: 0.1023\n",
      "Epoch: 093, Loss: 0.1003\n",
      "Epoch: 094, Loss: 0.1005\n",
      "Epoch: 095, Loss: 0.1000\n",
      "Epoch: 096, Loss: 0.0993\n",
      "Epoch: 097, Loss: 0.1002\n",
      "Epoch: 098, Loss: 0.0995\n",
      "Epoch: 099, Loss: 0.0991\n",
      "Epoch: 100, Loss: 0.0995\n"
     ]
    },
    {
     "name": "stderr",
     "output_type": "stream",
     "text": [
      "100%|█████████████████████████████████████████████████████████████████████████████████████████████████████████████████████████████████████████████████████████████████████████████████████████████████████████████████████████████████████████████████████████████████████████████████████████████████████████████████████████████████| 17535/17535 [04:33<00:00, 64.22it/s]\n"
     ]
    },
    {
     "name": "stdout",
     "output_type": "stream",
     "text": [
      "Epoch: 100, Val Mean Rank: 309.82, Val MRR: 0.3676\n"
     ]
    },
    {
     "name": "stderr",
     "output_type": "stream",
     "text": [
      "100%|█████████████████████████████████████████████████████████████████████████████████████████████████████████████████████████████████████████████████████████████████████████████████████████████████████████████████████████████████████████████████████████████████████████████████████████████████████████████████████████████████| 20466/20466 [05:11<00:00, 65.60it/s]\n"
     ]
    },
    {
     "name": "stdout",
     "output_type": "stream",
     "text": [
      "Test Mean Rank: 321.65, Test MRR: 0.3638, \n",
      "Epoch: 101, Loss: 0.0994\n",
      "Epoch: 102, Loss: 0.0987\n",
      "Epoch: 103, Loss: 0.0976\n",
      "Epoch: 104, Loss: 0.0968\n",
      "Epoch: 105, Loss: 0.0983\n",
      "Epoch: 106, Loss: 0.0967\n",
      "Epoch: 107, Loss: 0.0974\n",
      "Epoch: 108, Loss: 0.0967\n",
      "Epoch: 109, Loss: 0.0961\n",
      "Epoch: 110, Loss: 0.0967\n",
      "Epoch: 111, Loss: 0.0953\n",
      "Epoch: 112, Loss: 0.0963\n",
      "Epoch: 113, Loss: 0.0958\n",
      "Epoch: 114, Loss: 0.0949\n",
      "Epoch: 115, Loss: 0.0951\n",
      "Epoch: 116, Loss: 0.0951\n",
      "Epoch: 117, Loss: 0.0949\n",
      "Epoch: 118, Loss: 0.0947\n",
      "Epoch: 119, Loss: 0.0946\n",
      "Epoch: 120, Loss: 0.0937\n",
      "Epoch: 121, Loss: 0.0931\n",
      "Epoch: 122, Loss: 0.0934\n",
      "Epoch: 123, Loss: 0.0935\n",
      "Epoch: 124, Loss: 0.0919\n",
      "Epoch: 125, Loss: 0.0929\n"
     ]
    },
    {
     "name": "stderr",
     "output_type": "stream",
     "text": [
      "100%|█████████████████████████████████████████████████████████████████████████████████████████████████████████████████████████████████████████████████████████████████████████████████████████████████████████████████████████████████████████████████████████████████████████████████████████████████████████████████████████████████| 17535/17535 [04:29<00:00, 65.08it/s]\n"
     ]
    },
    {
     "name": "stdout",
     "output_type": "stream",
     "text": [
      "Epoch: 125, Val Mean Rank: 293.61, Val MRR: 0.3632\n",
      "Epoch: 126, Loss: 0.0929\n",
      "Epoch: 127, Loss: 0.0928\n",
      "Epoch: 128, Loss: 0.0925\n",
      "Epoch: 129, Loss: 0.0931\n",
      "Epoch: 130, Loss: 0.0921\n",
      "Epoch: 131, Loss: 0.0925\n",
      "Epoch: 132, Loss: 0.0923\n",
      "Epoch: 133, Loss: 0.0923\n",
      "Epoch: 134, Loss: 0.0924\n",
      "Epoch: 135, Loss: 0.0917\n",
      "Epoch: 136, Loss: 0.0916\n",
      "Epoch: 137, Loss: 0.0916\n",
      "Epoch: 138, Loss: 0.0914\n",
      "Epoch: 139, Loss: 0.0912\n",
      "Epoch: 140, Loss: 0.0911\n",
      "Epoch: 141, Loss: 0.0911\n",
      "Epoch: 142, Loss: 0.0914\n",
      "Epoch: 143, Loss: 0.0907\n",
      "Epoch: 144, Loss: 0.0903\n",
      "Epoch: 145, Loss: 0.0911\n",
      "Epoch: 146, Loss: 0.0902\n",
      "Epoch: 147, Loss: 0.0896\n",
      "Epoch: 148, Loss: 0.0901\n",
      "Epoch: 149, Loss: 0.0913\n",
      "Epoch: 150, Loss: 0.0898\n"
     ]
    },
    {
     "name": "stderr",
     "output_type": "stream",
     "text": [
      "100%|█████████████████████████████████████████████████████████████████████████████████████████████████████████████████████████████████████████████████████████████████████████████████████████████████████████████████████████████████████████████████████████████████████████████████████████████████████████████████████████████████| 17535/17535 [04:29<00:00, 65.00it/s]\n"
     ]
    },
    {
     "name": "stdout",
     "output_type": "stream",
     "text": [
      "Epoch: 150, Val Mean Rank: 282.13, Val MRR: 0.3551\n",
      "Epoch: 151, Loss: 0.0897\n",
      "Epoch: 152, Loss: 0.0900\n",
      "Epoch: 153, Loss: 0.0908\n",
      "Epoch: 154, Loss: 0.0896\n",
      "Epoch: 155, Loss: 0.0896\n",
      "Epoch: 156, Loss: 0.0892\n",
      "Epoch: 157, Loss: 0.0897\n",
      "Epoch: 158, Loss: 0.0899\n",
      "Epoch: 159, Loss: 0.0886\n",
      "Epoch: 160, Loss: 0.0891\n",
      "Epoch: 161, Loss: 0.0886\n",
      "Epoch: 162, Loss: 0.0890\n",
      "Epoch: 163, Loss: 0.0890\n",
      "Epoch: 164, Loss: 0.0882\n",
      "Epoch: 165, Loss: 0.0881\n",
      "Epoch: 166, Loss: 0.0887\n",
      "Epoch: 167, Loss: 0.0884\n",
      "Epoch: 168, Loss: 0.0879\n",
      "Epoch: 169, Loss: 0.0878\n",
      "Epoch: 170, Loss: 0.0875\n",
      "Epoch: 171, Loss: 0.0882\n",
      "Epoch: 172, Loss: 0.0867\n",
      "Epoch: 173, Loss: 0.0872\n",
      "Epoch: 174, Loss: 0.0879\n",
      "Epoch: 175, Loss: 0.0869\n"
     ]
    },
    {
     "name": "stderr",
     "output_type": "stream",
     "text": [
      "100%|█████████████████████████████████████████████████████████████████████████████████████████████████████████████████████████████████████████████████████████████████████████████████████████████████████████████████████████████████████████████████████████████████████████████████████████████████████████████████████████████████| 17535/17535 [04:34<00:00, 63.97it/s]\n"
     ]
    },
    {
     "name": "stdout",
     "output_type": "stream",
     "text": [
      "Epoch: 175, Val Mean Rank: 275.25, Val MRR: 0.3705\n",
      "Epoch: 176, Loss: 0.0882\n",
      "Epoch: 177, Loss: 0.0868\n",
      "Epoch: 178, Loss: 0.0877\n",
      "Epoch: 179, Loss: 0.0870\n",
      "Epoch: 180, Loss: 0.0867\n",
      "Epoch: 181, Loss: 0.0877\n",
      "Epoch: 182, Loss: 0.0869\n",
      "Epoch: 183, Loss: 0.0871\n",
      "Epoch: 184, Loss: 0.0876\n",
      "Epoch: 185, Loss: 0.0864\n",
      "Epoch: 186, Loss: 0.0872\n",
      "Epoch: 187, Loss: 0.0873\n",
      "Epoch: 188, Loss: 0.0874\n",
      "Epoch: 189, Loss: 0.0860\n",
      "Epoch: 190, Loss: 0.0866\n",
      "Epoch: 191, Loss: 0.0861\n",
      "Epoch: 192, Loss: 0.0861\n",
      "Epoch: 193, Loss: 0.0874\n",
      "Epoch: 194, Loss: 0.0863\n",
      "Epoch: 195, Loss: 0.0863\n",
      "Epoch: 196, Loss: 0.0860\n",
      "Epoch: 197, Loss: 0.0862\n",
      "Epoch: 198, Loss: 0.0861\n",
      "Epoch: 199, Loss: 0.0857\n",
      "Epoch: 200, Loss: 0.0852\n"
     ]
    },
    {
     "name": "stderr",
     "output_type": "stream",
     "text": [
      "100%|█████████████████████████████████████████████████████████████████████████████████████████████████████████████████████████████████████████████████████████████████████████████████████████████████████████████████████████████████████████████████████████████████████████████████████████████████████████████████████████████████| 17535/17535 [04:37<00:00, 63.24it/s]\n"
     ]
    },
    {
     "name": "stdout",
     "output_type": "stream",
     "text": [
      "Epoch: 200, Val Mean Rank: 267.16, Val MRR: 0.3674\n"
     ]
    },
    {
     "name": "stderr",
     "output_type": "stream",
     "text": [
      "100%|█████████████████████████████████████████████████████████████████████████████████████████████████████████████████████████████████████████████████████████████████████████████████████████████████████████████████████████████████████████████████████████████████████████████████████████████████████████████████████████████████| 20466/20466 [05:22<00:00, 63.47it/s]"
     ]
    },
    {
     "name": "stdout",
     "output_type": "stream",
     "text": [
      "Test Mean Rank: 284.64, Test MRR: 0.3673, \n"
     ]
    },
    {
     "name": "stderr",
     "output_type": "stream",
     "text": [
      "\n"
     ]
    }
   ],
   "source": [
    "# training and testing TransE\n",
    "model_type = 'transe'\n",
    "model_map = {\n",
    "    'transe': TransE,\n",
    "    'complex': ComplEx,\n",
    "    'distmult': DistMult,\n",
    "    'rotate': RotatE,\n",
    "}\n",
    "\n",
    "device = 'cuda' if torch.cuda.is_available() else 'cpu'\n",
    "path = 'data'\n",
    "\n",
    "train_data = FB15k_237(path, split='train')[0].to(device)\n",
    "val_data = FB15k_237(path, split='val')[0].to(device)\n",
    "test_data = FB15k_237(path, split='test')[0].to(device)\n",
    "\n",
    "model_arg_map = {'rotate': {'margin': 9.0}}\n",
    "model = model_map[model_type](\n",
    "    num_nodes=train_data.num_nodes,\n",
    "    num_relations=train_data.num_edge_types,\n",
    "    hidden_channels=50,\n",
    "    **model_arg_map.get(model_type, {}),\n",
    ").to(device)\n",
    "\n",
    "loader = model.loader(\n",
    "    head_index=train_data.edge_index[0],\n",
    "    rel_type=train_data.edge_type,\n",
    "    tail_index=train_data.edge_index[1],\n",
    "    batch_size=1000,\n",
    "    shuffle=True,\n",
    ")\n",
    "\n",
    "optimizer_map = {\n",
    "    'transe': optim.Adam(model.parameters(), lr=0.01),\n",
    "    'complex': optim.Adagrad(model.parameters(), lr=0.001, weight_decay=1e-6),\n",
    "    'distmult': optim.Adam(model.parameters(), lr=0.0001, weight_decay=1e-6),\n",
    "    'rotate': optim.Adam(model.parameters(), lr=1e-3),\n",
    "}\n",
    "optimizer = optimizer_map[model_type]\n",
    "\n",
    "\n",
    "def train():\n",
    "    model.train()\n",
    "    total_loss = total_examples = 0\n",
    "    for head_index, rel_type, tail_index in loader:\n",
    "        optimizer.zero_grad()\n",
    "        loss = model.loss(head_index, rel_type, tail_index)\n",
    "        loss.backward()\n",
    "        optimizer.step()\n",
    "        total_loss += float(loss) * head_index.numel()\n",
    "        total_examples += head_index.numel()\n",
    "    return total_loss / total_examples\n",
    "\n",
    "\n",
    "@torch.no_grad()\n",
    "def test(data):\n",
    "    model.eval()\n",
    "    return model.test(\n",
    "        head_index=data.edge_index[0],\n",
    "        rel_type=data.edge_type,\n",
    "        tail_index=data.edge_index[1],\n",
    "        batch_size=20000,\n",
    "        k=10,\n",
    "    )\n",
    "# training and testing Distmult \n",
    "for epoch in range(1, 201):\n",
    "    loss = train()\n",
    "    print(f'Epoch: {epoch:03d}, Loss: {loss:.4f}')\n",
    "    if epoch % 25 == 0:\n",
    "        rank, mrr = test(val_data)\n",
    "        print(f'Epoch: {epoch:03d}, Val Mean Rank: {rank:.2f}, '\n",
    "              f'Val MRR: {mrr:.4f}')\n",
    "    if epoch % 100 == 0:\n",
    "        rank, mrr = test(test_data)\n",
    "        print(f'Test Mean Rank: {rank:.2f}, Test MRR: {mrr:.4f}, ')\n",
    "        mrr = round(mrr*100, 4)\n",
    "        torch.save(model.state_dict(), './mods/transe_mods/transe_fbk_epch'+str(epoch)+'_mrr'+str(mrr)+'.pt')"
   ]
  },
  {
   "cell_type": "markdown",
   "id": "cc501422-ba11-4ed7-9535-1159741987c5",
   "metadata": {},
   "source": [
    "#### RotatE\n"
   ]
  },
  {
   "cell_type": "code",
   "execution_count": 6,
   "id": "72b47f3b-3278-40bf-a7ad-61dd900406e6",
   "metadata": {},
   "outputs": [
    {
     "name": "stdout",
     "output_type": "stream",
     "text": [
      "Epoch: 001, Loss: 4.1393\n",
      "Epoch: 002, Loss: 3.5514\n",
      "Epoch: 003, Loss: 2.9819\n",
      "Epoch: 004, Loss: 2.4961\n",
      "Epoch: 005, Loss: 2.1159\n",
      "Epoch: 006, Loss: 1.8190\n",
      "Epoch: 007, Loss: 1.5829\n",
      "Epoch: 008, Loss: 1.3959\n",
      "Epoch: 009, Loss: 1.2488\n",
      "Epoch: 010, Loss: 1.1283\n",
      "Epoch: 011, Loss: 1.0320\n",
      "Epoch: 012, Loss: 0.9508\n",
      "Epoch: 013, Loss: 0.8837\n",
      "Epoch: 014, Loss: 0.8278\n",
      "Epoch: 015, Loss: 0.7805\n",
      "Epoch: 016, Loss: 0.7413\n",
      "Epoch: 017, Loss: 0.7072\n",
      "Epoch: 018, Loss: 0.6783\n",
      "Epoch: 019, Loss: 0.6542\n",
      "Epoch: 020, Loss: 0.6335\n",
      "Epoch: 021, Loss: 0.6156\n",
      "Epoch: 022, Loss: 0.6005\n",
      "Epoch: 023, Loss: 0.5875\n",
      "Epoch: 024, Loss: 0.5745\n",
      "Epoch: 025, Loss: 0.5641\n"
     ]
    },
    {
     "name": "stderr",
     "output_type": "stream",
     "text": [
      "100%|████████████████████████████████████████████████████████████████████████████████████████████████████████████████████████████████████████████████████████████████████████████████████████████████████████████████████████████████████████████████████████████████████████████████████████████████████████████████████████████████| 17535/17535 [02:07<00:00, 137.21it/s]\n"
     ]
    },
    {
     "name": "stdout",
     "output_type": "stream",
     "text": [
      "Epoch: 025, Val Mean Rank: 3159.37, Val MRR: 0.0248\n",
      "Epoch: 026, Loss: 0.5525\n",
      "Epoch: 027, Loss: 0.5429\n",
      "Epoch: 028, Loss: 0.5328\n",
      "Epoch: 029, Loss: 0.5233\n",
      "Epoch: 030, Loss: 0.5137\n",
      "Epoch: 031, Loss: 0.5038\n",
      "Epoch: 032, Loss: 0.4937\n",
      "Epoch: 033, Loss: 0.4846\n",
      "Epoch: 034, Loss: 0.4738\n",
      "Epoch: 035, Loss: 0.4644\n",
      "Epoch: 036, Loss: 0.4537\n",
      "Epoch: 037, Loss: 0.4440\n",
      "Epoch: 038, Loss: 0.4332\n",
      "Epoch: 039, Loss: 0.4230\n",
      "Epoch: 040, Loss: 0.4133\n",
      "Epoch: 041, Loss: 0.4034\n",
      "Epoch: 042, Loss: 0.3927\n",
      "Epoch: 043, Loss: 0.3820\n",
      "Epoch: 044, Loss: 0.3721\n",
      "Epoch: 045, Loss: 0.3627\n",
      "Epoch: 046, Loss: 0.3526\n",
      "Epoch: 047, Loss: 0.3430\n",
      "Epoch: 048, Loss: 0.3336\n",
      "Epoch: 049, Loss: 0.3241\n",
      "Epoch: 050, Loss: 0.3158\n"
     ]
    },
    {
     "name": "stderr",
     "output_type": "stream",
     "text": [
      "100%|████████████████████████████████████████████████████████████████████████████████████████████████████████████████████████████████████████████████████████████████████████████████████████████████████████████████████████████████████████████████████████████████████████████████████████████████████████████████████████████████| 17535/17535 [02:08<00:00, 136.73it/s]\n"
     ]
    },
    {
     "name": "stdout",
     "output_type": "stream",
     "text": [
      "Epoch: 050, Val Mean Rank: 1156.91, Val MRR: 0.2341\n",
      "Epoch: 051, Loss: 0.3060\n",
      "Epoch: 052, Loss: 0.2973\n",
      "Epoch: 053, Loss: 0.2887\n",
      "Epoch: 054, Loss: 0.2808\n",
      "Epoch: 055, Loss: 0.2728\n",
      "Epoch: 056, Loss: 0.2655\n",
      "Epoch: 057, Loss: 0.2580\n",
      "Epoch: 058, Loss: 0.2506\n",
      "Epoch: 059, Loss: 0.2437\n",
      "Epoch: 060, Loss: 0.2373\n",
      "Epoch: 061, Loss: 0.2310\n",
      "Epoch: 062, Loss: 0.2248\n",
      "Epoch: 063, Loss: 0.2190\n",
      "Epoch: 064, Loss: 0.2137\n",
      "Epoch: 065, Loss: 0.2079\n",
      "Epoch: 066, Loss: 0.2032\n",
      "Epoch: 067, Loss: 0.1987\n",
      "Epoch: 068, Loss: 0.1930\n",
      "Epoch: 069, Loss: 0.1890\n",
      "Epoch: 070, Loss: 0.1846\n",
      "Epoch: 071, Loss: 0.1808\n",
      "Epoch: 072, Loss: 0.1773\n",
      "Epoch: 073, Loss: 0.1737\n",
      "Epoch: 074, Loss: 0.1697\n",
      "Epoch: 075, Loss: 0.1667\n"
     ]
    },
    {
     "name": "stderr",
     "output_type": "stream",
     "text": [
      "100%|████████████████████████████████████████████████████████████████████████████████████████████████████████████████████████████████████████████████████████████████████████████████████████████████████████████████████████████████████████████████████████████████████████████████████████████████████████████████████████████████| 17535/17535 [02:08<00:00, 136.35it/s]\n"
     ]
    },
    {
     "name": "stdout",
     "output_type": "stream",
     "text": [
      "Epoch: 075, Val Mean Rank: 395.72, Val MRR: 0.3867\n",
      "Epoch: 076, Loss: 0.1640\n",
      "Epoch: 077, Loss: 0.1606\n",
      "Epoch: 078, Loss: 0.1574\n",
      "Epoch: 079, Loss: 0.1548\n",
      "Epoch: 080, Loss: 0.1528\n",
      "Epoch: 081, Loss: 0.1504\n",
      "Epoch: 082, Loss: 0.1483\n",
      "Epoch: 083, Loss: 0.1452\n",
      "Epoch: 084, Loss: 0.1438\n",
      "Epoch: 085, Loss: 0.1426\n",
      "Epoch: 086, Loss: 0.1399\n",
      "Epoch: 087, Loss: 0.1378\n",
      "Epoch: 088, Loss: 0.1365\n",
      "Epoch: 089, Loss: 0.1349\n",
      "Epoch: 090, Loss: 0.1332\n",
      "Epoch: 091, Loss: 0.1320\n",
      "Epoch: 092, Loss: 0.1306\n",
      "Epoch: 093, Loss: 0.1287\n",
      "Epoch: 094, Loss: 0.1277\n",
      "Epoch: 095, Loss: 0.1264\n",
      "Epoch: 096, Loss: 0.1252\n",
      "Epoch: 097, Loss: 0.1246\n",
      "Epoch: 098, Loss: 0.1240\n",
      "Epoch: 099, Loss: 0.1216\n",
      "Epoch: 100, Loss: 0.1219\n"
     ]
    },
    {
     "name": "stderr",
     "output_type": "stream",
     "text": [
      "100%|████████████████████████████████████████████████████████████████████████████████████████████████████████████████████████████████████████████████████████████████████████████████████████████████████████████████████████████████████████████████████████████████████████████████████████████████████████████████████████████████| 17535/17535 [02:08<00:00, 136.26it/s]\n"
     ]
    },
    {
     "name": "stdout",
     "output_type": "stream",
     "text": [
      "Epoch: 100, Val Mean Rank: 244.70, Val MRR: 0.4182\n"
     ]
    },
    {
     "name": "stderr",
     "output_type": "stream",
     "text": [
      "100%|████████████████████████████████████████████████████████████████████████████████████████████████████████████████████████████████████████████████████████████████████████████████████████████████████████████████████████████████████████████████████████████████████████████████████████████████████████████████████████████████| 20466/20466 [02:29<00:00, 136.62it/s]\n"
     ]
    },
    {
     "name": "stdout",
     "output_type": "stream",
     "text": [
      "Test Mean Rank: 255.77, Test MRR: 0.4121, \n",
      "Epoch: 101, Loss: 0.1209\n",
      "Epoch: 102, Loss: 0.1195\n",
      "Epoch: 103, Loss: 0.1179\n",
      "Epoch: 104, Loss: 0.1179\n",
      "Epoch: 105, Loss: 0.1169\n",
      "Epoch: 106, Loss: 0.1157\n",
      "Epoch: 107, Loss: 0.1153\n",
      "Epoch: 108, Loss: 0.1147\n",
      "Epoch: 109, Loss: 0.1136\n",
      "Epoch: 110, Loss: 0.1135\n",
      "Epoch: 111, Loss: 0.1131\n",
      "Epoch: 112, Loss: 0.1127\n",
      "Epoch: 113, Loss: 0.1115\n",
      "Epoch: 114, Loss: 0.1114\n",
      "Epoch: 115, Loss: 0.1102\n",
      "Epoch: 116, Loss: 0.1096\n",
      "Epoch: 117, Loss: 0.1094\n",
      "Epoch: 118, Loss: 0.1086\n",
      "Epoch: 119, Loss: 0.1085\n",
      "Epoch: 120, Loss: 0.1080\n",
      "Epoch: 121, Loss: 0.1072\n",
      "Epoch: 122, Loss: 0.1067\n",
      "Epoch: 123, Loss: 0.1061\n",
      "Epoch: 124, Loss: 0.1064\n",
      "Epoch: 125, Loss: 0.1059\n"
     ]
    },
    {
     "name": "stderr",
     "output_type": "stream",
     "text": [
      "100%|████████████████████████████████████████████████████████████████████████████████████████████████████████████████████████████████████████████████████████████████████████████████████████████████████████████████████████████████████████████████████████████████████████████████████████████████████████████████████████████████| 17535/17535 [02:08<00:00, 136.38it/s]\n"
     ]
    },
    {
     "name": "stdout",
     "output_type": "stream",
     "text": [
      "Epoch: 125, Val Mean Rank: 200.26, Val MRR: 0.4263\n",
      "Epoch: 126, Loss: 0.1061\n",
      "Epoch: 127, Loss: 0.1048\n",
      "Epoch: 128, Loss: 0.1040\n",
      "Epoch: 129, Loss: 0.1040\n",
      "Epoch: 130, Loss: 0.1034\n",
      "Epoch: 131, Loss: 0.1038\n",
      "Epoch: 132, Loss: 0.1036\n",
      "Epoch: 133, Loss: 0.1028\n",
      "Epoch: 134, Loss: 0.1028\n",
      "Epoch: 135, Loss: 0.1024\n",
      "Epoch: 136, Loss: 0.1016\n",
      "Epoch: 137, Loss: 0.1019\n",
      "Epoch: 138, Loss: 0.1018\n",
      "Epoch: 139, Loss: 0.1018\n",
      "Epoch: 140, Loss: 0.1008\n",
      "Epoch: 141, Loss: 0.1012\n",
      "Epoch: 142, Loss: 0.1009\n",
      "Epoch: 143, Loss: 0.1002\n",
      "Epoch: 144, Loss: 0.0999\n",
      "Epoch: 145, Loss: 0.1000\n",
      "Epoch: 146, Loss: 0.0998\n",
      "Epoch: 147, Loss: 0.0987\n",
      "Epoch: 148, Loss: 0.0989\n",
      "Epoch: 149, Loss: 0.0985\n",
      "Epoch: 150, Loss: 0.0985\n"
     ]
    },
    {
     "name": "stderr",
     "output_type": "stream",
     "text": [
      "100%|████████████████████████████████████████████████████████████████████████████████████████████████████████████████████████████████████████████████████████████████████████████████████████████████████████████████████████████████████████████████████████████████████████████████████████████████████████████████████████████████| 17535/17535 [02:08<00:00, 136.27it/s]\n"
     ]
    },
    {
     "name": "stdout",
     "output_type": "stream",
     "text": [
      "Epoch: 150, Val Mean Rank: 181.65, Val MRR: 0.4350\n",
      "Epoch: 151, Loss: 0.0991\n",
      "Epoch: 152, Loss: 0.0984\n",
      "Epoch: 153, Loss: 0.0982\n",
      "Epoch: 154, Loss: 0.0986\n",
      "Epoch: 155, Loss: 0.0975\n",
      "Epoch: 156, Loss: 0.0977\n",
      "Epoch: 157, Loss: 0.0978\n",
      "Epoch: 158, Loss: 0.0973\n",
      "Epoch: 159, Loss: 0.0972\n",
      "Epoch: 160, Loss: 0.0964\n",
      "Epoch: 161, Loss: 0.0968\n",
      "Epoch: 162, Loss: 0.0970\n",
      "Epoch: 163, Loss: 0.0961\n",
      "Epoch: 164, Loss: 0.0966\n",
      "Epoch: 165, Loss: 0.0961\n",
      "Epoch: 166, Loss: 0.0964\n",
      "Epoch: 167, Loss: 0.0952\n",
      "Epoch: 168, Loss: 0.0953\n",
      "Epoch: 169, Loss: 0.0950\n",
      "Epoch: 170, Loss: 0.0961\n",
      "Epoch: 171, Loss: 0.0966\n",
      "Epoch: 172, Loss: 0.0950\n",
      "Epoch: 173, Loss: 0.0952\n",
      "Epoch: 174, Loss: 0.0950\n",
      "Epoch: 175, Loss: 0.0951\n"
     ]
    },
    {
     "name": "stderr",
     "output_type": "stream",
     "text": [
      "100%|████████████████████████████████████████████████████████████████████████████████████████████████████████████████████████████████████████████████████████████████████████████████████████████████████████████████████████████████████████████████████████████████████████████████████████████████████████████████████████████████| 17535/17535 [02:10<00:00, 134.13it/s]\n"
     ]
    },
    {
     "name": "stdout",
     "output_type": "stream",
     "text": [
      "Epoch: 175, Val Mean Rank: 171.40, Val MRR: 0.4343\n",
      "Epoch: 176, Loss: 0.0949\n",
      "Epoch: 177, Loss: 0.0950\n",
      "Epoch: 178, Loss: 0.0944\n",
      "Epoch: 179, Loss: 0.0936\n",
      "Epoch: 180, Loss: 0.0938\n",
      "Epoch: 181, Loss: 0.0938\n",
      "Epoch: 182, Loss: 0.0936\n",
      "Epoch: 183, Loss: 0.0938\n",
      "Epoch: 184, Loss: 0.0935\n",
      "Epoch: 185, Loss: 0.0934\n",
      "Epoch: 186, Loss: 0.0937\n",
      "Epoch: 187, Loss: 0.0935\n",
      "Epoch: 188, Loss: 0.0931\n",
      "Epoch: 189, Loss: 0.0928\n",
      "Epoch: 190, Loss: 0.0932\n",
      "Epoch: 191, Loss: 0.0930\n",
      "Epoch: 192, Loss: 0.0924\n",
      "Epoch: 193, Loss: 0.0933\n",
      "Epoch: 194, Loss: 0.0924\n",
      "Epoch: 195, Loss: 0.0926\n",
      "Epoch: 196, Loss: 0.0926\n",
      "Epoch: 197, Loss: 0.0927\n",
      "Epoch: 198, Loss: 0.0919\n",
      "Epoch: 199, Loss: 0.0920\n",
      "Epoch: 200, Loss: 0.0920\n"
     ]
    },
    {
     "name": "stderr",
     "output_type": "stream",
     "text": [
      "100%|████████████████████████████████████████████████████████████████████████████████████████████████████████████████████████████████████████████████████████████████████████████████████████████████████████████████████████████████████████████████████████████████████████████████████████████████████████████████████████████████| 17535/17535 [02:09<00:00, 135.72it/s]\n"
     ]
    },
    {
     "name": "stdout",
     "output_type": "stream",
     "text": [
      "Epoch: 200, Val Mean Rank: 163.86, Val MRR: 0.4347\n"
     ]
    },
    {
     "name": "stderr",
     "output_type": "stream",
     "text": [
      "100%|████████████████████████████████████████████████████████████████████████████████████████████████████████████████████████████████████████████████████████████████████████████████████████████████████████████████████████████████████████████████████████████████████████████████████████████████████████████████████████████████| 20466/20466 [02:28<00:00, 137.41it/s]"
     ]
    },
    {
     "name": "stdout",
     "output_type": "stream",
     "text": [
      "Test Mean Rank: 173.50, Test MRR: 0.4295, \n"
     ]
    },
    {
     "name": "stderr",
     "output_type": "stream",
     "text": [
      "\n"
     ]
    }
   ],
   "source": [
    "# training and testing rotate\n",
    "model_type = 'rotate'\n",
    "model_map = {\n",
    "    'transe': TransE,\n",
    "    'complex': ComplEx,\n",
    "    'distmult': DistMult,\n",
    "    'rotate': RotatE,\n",
    "}\n",
    "\n",
    "device = 'cuda' if torch.cuda.is_available() else 'cpu'\n",
    "path = 'data'\n",
    "\n",
    "train_data = FB15k_237(path, split='train')[0].to(device)\n",
    "val_data = FB15k_237(path, split='val')[0].to(device)\n",
    "test_data = FB15k_237(path, split='test')[0].to(device)\n",
    "\n",
    "model_arg_map = {'rotate': {'margin': 9.0}}\n",
    "model = model_map[model_type](\n",
    "    num_nodes=train_data.num_nodes,\n",
    "    num_relations=train_data.num_edge_types,\n",
    "    hidden_channels=50,\n",
    "    **model_arg_map.get(model_type, {}),\n",
    ").to(device)\n",
    "\n",
    "loader = model.loader(\n",
    "    head_index=train_data.edge_index[0],\n",
    "    rel_type=train_data.edge_type,\n",
    "    tail_index=train_data.edge_index[1],\n",
    "    batch_size=1000,\n",
    "    shuffle=True,\n",
    ")\n",
    "\n",
    "optimizer_map = {\n",
    "    'transe': optim.Adam(model.parameters(), lr=0.01),\n",
    "    'complex': optim.Adagrad(model.parameters(), lr=0.001, weight_decay=1e-6),\n",
    "    'distmult': optim.Adam(model.parameters(), lr=0.0001, weight_decay=1e-6),\n",
    "    'rotate': optim.Adam(model.parameters(), lr=1e-3),\n",
    "}\n",
    "optimizer = optimizer_map[model_type]\n",
    "\n",
    "\n",
    "def train():\n",
    "    model.train()\n",
    "    total_loss = total_examples = 0\n",
    "    for head_index, rel_type, tail_index in loader:\n",
    "        optimizer.zero_grad()\n",
    "        loss = model.loss(head_index, rel_type, tail_index)\n",
    "        loss.backward()\n",
    "        optimizer.step()\n",
    "        total_loss += float(loss) * head_index.numel()\n",
    "        total_examples += head_index.numel()\n",
    "    return total_loss / total_examples\n",
    "\n",
    "\n",
    "@torch.no_grad()\n",
    "def test(data):\n",
    "    model.eval()\n",
    "    return model.test(\n",
    "        head_index=data.edge_index[0],\n",
    "        rel_type=data.edge_type,\n",
    "        tail_index=data.edge_index[1],\n",
    "        batch_size=20000,\n",
    "        k=10,\n",
    "    )\n",
    "# training and testing rotate \n",
    "for epoch in range(1, 201):\n",
    "    loss = train()\n",
    "    print(f'Epoch: {epoch:03d}, Loss: {loss:.4f}')\n",
    "    if epoch % 25 == 0:\n",
    "        rank, mrr = test(val_data)\n",
    "        print(f'Epoch: {epoch:03d}, Val Mean Rank: {rank:.2f}, '\n",
    "              f'Val MRR: {mrr:.4f}')\n",
    "    if epoch % 100 == 0:\n",
    "        rank, mrr = test(test_data)\n",
    "        print(f'Test Mean Rank: {rank:.2f}, Test MRR: {mrr:.4f}, ')\n",
    "        mrr = round(mrr*100, 4)\n",
    "        torch.save(model.state_dict(), './mods/rotate_mods/rotate_fbk_epch'+str(epoch)+'_mrr'+str(mrr)+'.pt')"
   ]
  },
  {
   "cell_type": "markdown",
   "id": "8952c867-14d1-4a4d-bd42-2d2fc4d077f7",
   "metadata": {},
   "source": [
    "#### Complex "
   ]
  },
  {
   "cell_type": "code",
   "execution_count": 7,
   "id": "fcc716b8-7357-4e51-a62b-abb0fae902bf",
   "metadata": {},
   "outputs": [
    {
     "name": "stdout",
     "output_type": "stream",
     "text": [
      "Epoch: 001, Loss: 0.6931\n",
      "Epoch: 002, Loss: 0.6931\n",
      "Epoch: 003, Loss: 0.6931\n",
      "Epoch: 004, Loss: 0.6931\n",
      "Epoch: 005, Loss: 0.6931\n",
      "Epoch: 006, Loss: 0.6931\n",
      "Epoch: 007, Loss: 0.6931\n",
      "Epoch: 008, Loss: 0.6930\n",
      "Epoch: 009, Loss: 0.6930\n",
      "Epoch: 010, Loss: 0.6928\n",
      "Epoch: 011, Loss: 0.6927\n",
      "Epoch: 012, Loss: 0.6925\n",
      "Epoch: 013, Loss: 0.6923\n",
      "Epoch: 014, Loss: 0.6920\n",
      "Epoch: 015, Loss: 0.6916\n",
      "Epoch: 016, Loss: 0.6912\n",
      "Epoch: 017, Loss: 0.6907\n",
      "Epoch: 018, Loss: 0.6901\n",
      "Epoch: 019, Loss: 0.6895\n",
      "Epoch: 020, Loss: 0.6888\n",
      "Epoch: 021, Loss: 0.6881\n",
      "Epoch: 022, Loss: 0.6873\n",
      "Epoch: 023, Loss: 0.6865\n",
      "Epoch: 024, Loss: 0.6855\n",
      "Epoch: 025, Loss: 0.6846\n"
     ]
    },
    {
     "name": "stderr",
     "output_type": "stream",
     "text": [
      "100%|████████████████████████████████████████████████████████████████████████████████████████████████████████████████████████████████████████████████████████████████████████████████████████████████████████████████████████████████████████████████████████████████████████████████████████████████████████████████████████████████| 17535/17535 [01:23<00:00, 209.86it/s]\n"
     ]
    },
    {
     "name": "stdout",
     "output_type": "stream",
     "text": [
      "Epoch: 025, Val Mean Rank: 694.40, Val MRR: 0.3080\n",
      "Epoch: 026, Loss: 0.6836\n",
      "Epoch: 027, Loss: 0.6825\n",
      "Epoch: 028, Loss: 0.6814\n",
      "Epoch: 029, Loss: 0.6803\n",
      "Epoch: 030, Loss: 0.6791\n",
      "Epoch: 031, Loss: 0.6779\n",
      "Epoch: 032, Loss: 0.6767\n",
      "Epoch: 033, Loss: 0.6754\n",
      "Epoch: 034, Loss: 0.6741\n",
      "Epoch: 035, Loss: 0.6727\n",
      "Epoch: 036, Loss: 0.6714\n",
      "Epoch: 037, Loss: 0.6700\n",
      "Epoch: 038, Loss: 0.6686\n",
      "Epoch: 039, Loss: 0.6672\n",
      "Epoch: 040, Loss: 0.6657\n",
      "Epoch: 041, Loss: 0.6643\n",
      "Epoch: 042, Loss: 0.6628\n",
      "Epoch: 043, Loss: 0.6613\n",
      "Epoch: 044, Loss: 0.6598\n",
      "Epoch: 045, Loss: 0.6582\n",
      "Epoch: 046, Loss: 0.6567\n",
      "Epoch: 047, Loss: 0.6553\n",
      "Epoch: 048, Loss: 0.6538\n",
      "Epoch: 049, Loss: 0.6522\n",
      "Epoch: 050, Loss: 0.6506\n"
     ]
    },
    {
     "name": "stderr",
     "output_type": "stream",
     "text": [
      "100%|████████████████████████████████████████████████████████████████████████████████████████████████████████████████████████████████████████████████████████████████████████████████████████████████████████████████████████████████████████████████████████████████████████████████████████████████████████████████████████████████| 17535/17535 [01:23<00:00, 210.51it/s]\n"
     ]
    },
    {
     "name": "stdout",
     "output_type": "stream",
     "text": [
      "Epoch: 050, Val Mean Rank: 673.07, Val MRR: 0.3155\n"
     ]
    },
    {
     "name": "stderr",
     "output_type": "stream",
     "text": [
      "100%|████████████████████████████████████████████████████████████████████████████████████████████████████████████████████████████████████████████████████████████████████████████████████████████████████████████████████████████████████████████████████████████████████████████████████████████████████████████████████████████████| 20466/20466 [01:37<00:00, 209.91it/s]\n"
     ]
    },
    {
     "name": "stdout",
     "output_type": "stream",
     "text": [
      "Test Mean Rank: 679.73, Test MRR: 0.3139, \n",
      "Epoch: 051, Loss: 0.6492\n",
      "Epoch: 052, Loss: 0.6476\n",
      "Epoch: 053, Loss: 0.6461\n",
      "Epoch: 054, Loss: 0.6445\n",
      "Epoch: 055, Loss: 0.6430\n",
      "Epoch: 056, Loss: 0.6415\n",
      "Epoch: 057, Loss: 0.6400\n",
      "Epoch: 058, Loss: 0.6384\n",
      "Epoch: 059, Loss: 0.6369\n",
      "Epoch: 060, Loss: 0.6356\n",
      "Epoch: 061, Loss: 0.6340\n",
      "Epoch: 062, Loss: 0.6324\n",
      "Epoch: 063, Loss: 0.6309\n",
      "Epoch: 064, Loss: 0.6295\n",
      "Epoch: 065, Loss: 0.6280\n",
      "Epoch: 066, Loss: 0.6267\n",
      "Epoch: 067, Loss: 0.6252\n",
      "Epoch: 068, Loss: 0.6237\n",
      "Epoch: 069, Loss: 0.6222\n",
      "Epoch: 070, Loss: 0.6209\n",
      "Epoch: 071, Loss: 0.6195\n",
      "Epoch: 072, Loss: 0.6181\n",
      "Epoch: 073, Loss: 0.6167\n",
      "Epoch: 074, Loss: 0.6153\n",
      "Epoch: 075, Loss: 0.6140\n"
     ]
    },
    {
     "name": "stderr",
     "output_type": "stream",
     "text": [
      "100%|████████████████████████████████████████████████████████████████████████████████████████████████████████████████████████████████████████████████████████████████████████████████████████████████████████████████████████████████████████████████████████████████████████████████████████████████████████████████████████████████| 17535/17535 [01:24<00:00, 207.78it/s]\n"
     ]
    },
    {
     "name": "stdout",
     "output_type": "stream",
     "text": [
      "Epoch: 075, Val Mean Rank: 673.74, Val MRR: 0.3210\n",
      "Epoch: 076, Loss: 0.6127\n",
      "Epoch: 077, Loss: 0.6114\n",
      "Epoch: 078, Loss: 0.6099\n",
      "Epoch: 079, Loss: 0.6089\n",
      "Epoch: 080, Loss: 0.6075\n",
      "Epoch: 081, Loss: 0.6062\n",
      "Epoch: 082, Loss: 0.6050\n",
      "Epoch: 083, Loss: 0.6039\n",
      "Epoch: 084, Loss: 0.6025\n",
      "Epoch: 085, Loss: 0.6014\n",
      "Epoch: 086, Loss: 0.6002\n",
      "Epoch: 087, Loss: 0.5989\n",
      "Epoch: 088, Loss: 0.5978\n",
      "Epoch: 089, Loss: 0.5965\n",
      "Epoch: 090, Loss: 0.5955\n",
      "Epoch: 091, Loss: 0.5943\n",
      "Epoch: 092, Loss: 0.5929\n",
      "Epoch: 093, Loss: 0.5919\n",
      "Epoch: 094, Loss: 0.5909\n",
      "Epoch: 095, Loss: 0.5897\n",
      "Epoch: 096, Loss: 0.5887\n",
      "Epoch: 097, Loss: 0.5877\n",
      "Epoch: 098, Loss: 0.5865\n",
      "Epoch: 099, Loss: 0.5858\n",
      "Epoch: 100, Loss: 0.5844\n"
     ]
    },
    {
     "name": "stderr",
     "output_type": "stream",
     "text": [
      "100%|████████████████████████████████████████████████████████████████████████████████████████████████████████████████████████████████████████████████████████████████████████████████████████████████████████████████████████████████████████████████████████████████████████████████████████████████████████████████████████████████| 17535/17535 [01:24<00:00, 208.64it/s]\n"
     ]
    },
    {
     "name": "stdout",
     "output_type": "stream",
     "text": [
      "Epoch: 100, Val Mean Rank: 667.52, Val MRR: 0.3261\n"
     ]
    },
    {
     "name": "stderr",
     "output_type": "stream",
     "text": [
      "100%|████████████████████████████████████████████████████████████████████████████████████████████████████████████████████████████████████████████████████████████████████████████████████████████████████████████████████████████████████████████████████████████████████████████████████████████████████████████████████████████████| 20466/20466 [01:38<00:00, 208.30it/s]\n"
     ]
    },
    {
     "name": "stdout",
     "output_type": "stream",
     "text": [
      "Test Mean Rank: 676.43, Test MRR: 0.3239, \n",
      "Epoch: 101, Loss: 0.5835\n",
      "Epoch: 102, Loss: 0.5828\n",
      "Epoch: 103, Loss: 0.5814\n",
      "Epoch: 104, Loss: 0.5805\n",
      "Epoch: 105, Loss: 0.5796\n",
      "Epoch: 106, Loss: 0.5783\n",
      "Epoch: 107, Loss: 0.5776\n",
      "Epoch: 108, Loss: 0.5770\n",
      "Epoch: 109, Loss: 0.5757\n",
      "Epoch: 110, Loss: 0.5749\n",
      "Epoch: 111, Loss: 0.5739\n",
      "Epoch: 112, Loss: 0.5729\n",
      "Epoch: 113, Loss: 0.5721\n",
      "Epoch: 114, Loss: 0.5714\n",
      "Epoch: 115, Loss: 0.5707\n",
      "Epoch: 116, Loss: 0.5696\n",
      "Epoch: 117, Loss: 0.5687\n",
      "Epoch: 118, Loss: 0.5676\n",
      "Epoch: 119, Loss: 0.5669\n",
      "Epoch: 120, Loss: 0.5659\n",
      "Epoch: 121, Loss: 0.5655\n",
      "Epoch: 122, Loss: 0.5646\n",
      "Epoch: 123, Loss: 0.5639\n",
      "Epoch: 124, Loss: 0.5632\n",
      "Epoch: 125, Loss: 0.5624\n"
     ]
    },
    {
     "name": "stderr",
     "output_type": "stream",
     "text": [
      "100%|████████████████████████████████████████████████████████████████████████████████████████████████████████████████████████████████████████████████████████████████████████████████████████████████████████████████████████████████████████████████████████████████████████████████████████████████████████████████████████████████| 17535/17535 [01:23<00:00, 209.08it/s]\n"
     ]
    },
    {
     "name": "stdout",
     "output_type": "stream",
     "text": [
      "Epoch: 125, Val Mean Rank: 660.04, Val MRR: 0.3304\n",
      "Epoch: 126, Loss: 0.5615\n",
      "Epoch: 127, Loss: 0.5607\n",
      "Epoch: 128, Loss: 0.5599\n",
      "Epoch: 129, Loss: 0.5591\n",
      "Epoch: 130, Loss: 0.5584\n",
      "Epoch: 131, Loss: 0.5579\n",
      "Epoch: 132, Loss: 0.5569\n",
      "Epoch: 133, Loss: 0.5560\n",
      "Epoch: 134, Loss: 0.5560\n",
      "Epoch: 135, Loss: 0.5547\n",
      "Epoch: 136, Loss: 0.5543\n",
      "Epoch: 137, Loss: 0.5535\n",
      "Epoch: 138, Loss: 0.5529\n",
      "Epoch: 139, Loss: 0.5522\n",
      "Epoch: 140, Loss: 0.5514\n",
      "Epoch: 141, Loss: 0.5512\n",
      "Epoch: 142, Loss: 0.5501\n",
      "Epoch: 143, Loss: 0.5500\n",
      "Epoch: 144, Loss: 0.5490\n",
      "Epoch: 145, Loss: 0.5484\n",
      "Epoch: 146, Loss: 0.5478\n",
      "Epoch: 147, Loss: 0.5470\n",
      "Epoch: 148, Loss: 0.5466\n",
      "Epoch: 149, Loss: 0.5464\n",
      "Epoch: 150, Loss: 0.5456\n"
     ]
    },
    {
     "name": "stderr",
     "output_type": "stream",
     "text": [
      "100%|████████████████████████████████████████████████████████████████████████████████████████████████████████████████████████████████████████████████████████████████████████████████████████████████████████████████████████████████████████████████████████████████████████████████████████████████████████████████████████████████| 17535/17535 [01:25<00:00, 205.91it/s]\n"
     ]
    },
    {
     "name": "stdout",
     "output_type": "stream",
     "text": [
      "Epoch: 150, Val Mean Rank: 652.43, Val MRR: 0.3342\n"
     ]
    },
    {
     "name": "stderr",
     "output_type": "stream",
     "text": [
      "100%|████████████████████████████████████████████████████████████████████████████████████████████████████████████████████████████████████████████████████████████████████████████████████████████████████████████████████████████████████████████████████████████████████████████████████████████████████████████████████████████████| 20466/20466 [01:38<00:00, 208.48it/s]\n"
     ]
    },
    {
     "name": "stdout",
     "output_type": "stream",
     "text": [
      "Test Mean Rank: 660.36, Test MRR: 0.3311, \n",
      "Epoch: 151, Loss: 0.5447\n",
      "Epoch: 152, Loss: 0.5444\n",
      "Epoch: 153, Loss: 0.5440\n",
      "Epoch: 154, Loss: 0.5435\n",
      "Epoch: 155, Loss: 0.5424\n",
      "Epoch: 156, Loss: 0.5421\n",
      "Epoch: 157, Loss: 0.5416\n",
      "Epoch: 158, Loss: 0.5408\n",
      "Epoch: 159, Loss: 0.5405\n",
      "Epoch: 160, Loss: 0.5397\n",
      "Epoch: 161, Loss: 0.5390\n",
      "Epoch: 162, Loss: 0.5388\n",
      "Epoch: 163, Loss: 0.5383\n",
      "Epoch: 164, Loss: 0.5377\n",
      "Epoch: 165, Loss: 0.5376\n",
      "Epoch: 166, Loss: 0.5366\n",
      "Epoch: 167, Loss: 0.5368\n",
      "Epoch: 168, Loss: 0.5360\n",
      "Epoch: 169, Loss: 0.5350\n",
      "Epoch: 170, Loss: 0.5347\n",
      "Epoch: 171, Loss: 0.5342\n",
      "Epoch: 172, Loss: 0.5339\n",
      "Epoch: 173, Loss: 0.5332\n",
      "Epoch: 174, Loss: 0.5328\n",
      "Epoch: 175, Loss: 0.5321\n"
     ]
    },
    {
     "name": "stderr",
     "output_type": "stream",
     "text": [
      "100%|████████████████████████████████████████████████████████████████████████████████████████████████████████████████████████████████████████████████████████████████████████████████████████████████████████████████████████████████████████████████████████████████████████████████████████████████████████████████████████████████| 17535/17535 [01:24<00:00, 208.70it/s]\n"
     ]
    },
    {
     "name": "stdout",
     "output_type": "stream",
     "text": [
      "Epoch: 175, Val Mean Rank: 643.29, Val MRR: 0.3372\n",
      "Epoch: 176, Loss: 0.5317\n",
      "Epoch: 177, Loss: 0.5320\n",
      "Epoch: 178, Loss: 0.5309\n",
      "Epoch: 179, Loss: 0.5308\n",
      "Epoch: 180, Loss: 0.5303\n",
      "Epoch: 181, Loss: 0.5296\n",
      "Epoch: 182, Loss: 0.5295\n",
      "Epoch: 183, Loss: 0.5292\n",
      "Epoch: 184, Loss: 0.5287\n",
      "Epoch: 185, Loss: 0.5278\n",
      "Epoch: 186, Loss: 0.5282\n",
      "Epoch: 187, Loss: 0.5274\n",
      "Epoch: 188, Loss: 0.5271\n",
      "Epoch: 189, Loss: 0.5270\n",
      "Epoch: 190, Loss: 0.5265\n",
      "Epoch: 191, Loss: 0.5259\n",
      "Epoch: 192, Loss: 0.5256\n",
      "Epoch: 193, Loss: 0.5249\n",
      "Epoch: 194, Loss: 0.5249\n",
      "Epoch: 195, Loss: 0.5244\n",
      "Epoch: 196, Loss: 0.5233\n",
      "Epoch: 197, Loss: 0.5238\n",
      "Epoch: 198, Loss: 0.5228\n",
      "Epoch: 199, Loss: 0.5222\n",
      "Epoch: 200, Loss: 0.5229\n"
     ]
    },
    {
     "name": "stderr",
     "output_type": "stream",
     "text": [
      "100%|████████████████████████████████████████████████████████████████████████████████████████████████████████████████████████████████████████████████████████████████████████████████████████████████████████████████████████████████████████████████████████████████████████████████████████████████████████████████████████████████| 17535/17535 [01:25<00:00, 204.52it/s]\n"
     ]
    },
    {
     "name": "stdout",
     "output_type": "stream",
     "text": [
      "Epoch: 200, Val Mean Rank: 634.85, Val MRR: 0.3414\n"
     ]
    },
    {
     "name": "stderr",
     "output_type": "stream",
     "text": [
      "100%|████████████████████████████████████████████████████████████████████████████████████████████████████████████████████████████████████████████████████████████████████████████████████████████████████████████████████████████████████████████████████████████████████████████████████████████████████████████████████████████████| 20466/20466 [01:38<00:00, 208.73it/s]"
     ]
    },
    {
     "name": "stdout",
     "output_type": "stream",
     "text": [
      "Test Mean Rank: 642.01, Test MRR: 0.3370, \n"
     ]
    },
    {
     "name": "stderr",
     "output_type": "stream",
     "text": [
      "\n"
     ]
    }
   ],
   "source": [
    "# training and testing complex\n",
    "model_type = 'complex'\n",
    "model_map = {\n",
    "    'transe': TransE,\n",
    "    'complex': ComplEx,\n",
    "    'distmult': DistMult,\n",
    "    'rotate': RotatE,\n",
    "}\n",
    "\n",
    "device = 'cuda' if torch.cuda.is_available() else 'cpu'\n",
    "path = 'data'\n",
    "\n",
    "train_data = FB15k_237(path, split='train')[0].to(device)\n",
    "val_data = FB15k_237(path, split='val')[0].to(device)\n",
    "test_data = FB15k_237(path, split='test')[0].to(device)\n",
    "\n",
    "model_arg_map = {'rotate': {'margin': 9.0}}\n",
    "model = model_map[model_type](\n",
    "    num_nodes=train_data.num_nodes,\n",
    "    num_relations=train_data.num_edge_types,\n",
    "    hidden_channels=50,\n",
    "    **model_arg_map.get(model_type, {}),\n",
    ").to(device)\n",
    "\n",
    "loader = model.loader(\n",
    "    head_index=train_data.edge_index[0],\n",
    "    rel_type=train_data.edge_type,\n",
    "    tail_index=train_data.edge_index[1],\n",
    "    batch_size=1000,\n",
    "    shuffle=True,\n",
    ")\n",
    "\n",
    "optimizer_map = {\n",
    "    'transe': optim.Adam(model.parameters(), lr=0.01),\n",
    "    'complex': optim.Adagrad(model.parameters(), lr=0.001, weight_decay=1e-6),\n",
    "    'distmult': optim.Adam(model.parameters(), lr=0.0001, weight_decay=1e-6),\n",
    "    'rotate': optim.Adam(model.parameters(), lr=1e-3),\n",
    "}\n",
    "optimizer = optimizer_map[model_type]\n",
    "\n",
    "\n",
    "def train():\n",
    "    model.train()\n",
    "    total_loss = total_examples = 0\n",
    "    for head_index, rel_type, tail_index in loader:\n",
    "        optimizer.zero_grad()\n",
    "        loss = model.loss(head_index, rel_type, tail_index)\n",
    "        loss.backward()\n",
    "        optimizer.step()\n",
    "        total_loss += float(loss) * head_index.numel()\n",
    "        total_examples += head_index.numel()\n",
    "    return total_loss / total_examples\n",
    "\n",
    "\n",
    "@torch.no_grad()\n",
    "def test(data):\n",
    "    model.eval()\n",
    "    return model.test(\n",
    "        head_index=data.edge_index[0],\n",
    "        rel_type=data.edge_type,\n",
    "        tail_index=data.edge_index[1],\n",
    "        batch_size=20000,\n",
    "        k=10,\n",
    "    )\n",
    "# training and testing complex \n",
    "for epoch in range(1, 201):\n",
    "    loss = train()\n",
    "    print(f'Epoch: {epoch:03d}, Loss: {loss:.4f}')\n",
    "    if epoch % 25 == 0:\n",
    "        rank, mrr = test(val_data)\n",
    "        print(f'Epoch: {epoch:03d}, Val Mean Rank: {rank:.2f}, '\n",
    "              f'Val MRR: {mrr:.4f}')\n",
    "    if epoch % 50 == 0:\n",
    "        rank, mrr = test(test_data)\n",
    "        print(f'Test Mean Rank: {rank:.2f}, Test MRR: {mrr:.4f}, ')\n",
    "        mrr = round(mrr*100, 4)\n",
    "        torch.save(model.state_dict(), './mods/complex_mods/complex_fbk_epch'+str(epoch)+'_mrr'+str(mrr)+'.pt')"
   ]
  },
  {
   "cell_type": "code",
   "execution_count": null,
   "id": "8e4c3b22-c0f1-4976-aac5-06e0f549f387",
   "metadata": {},
   "outputs": [],
   "source": []
  }
 ],
 "metadata": {
  "kernelspec": {
   "display_name": "Python 3 (ipykernel)",
   "language": "python",
   "name": "python3"
  },
  "language_info": {
   "codemirror_mode": {
    "name": "ipython",
    "version": 3
   },
   "file_extension": ".py",
   "mimetype": "text/x-python",
   "name": "python",
   "nbconvert_exporter": "python",
   "pygments_lexer": "ipython3",
   "version": "3.9.18"
  }
 },
 "nbformat": 4,
 "nbformat_minor": 5
}
